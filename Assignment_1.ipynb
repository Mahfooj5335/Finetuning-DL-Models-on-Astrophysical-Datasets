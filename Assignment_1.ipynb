{
  "nbformat": 4,
  "nbformat_minor": 0,
  "metadata": {
    "colab": {
      "provenance": []
    },
    "kernelspec": {
      "name": "python3",
      "display_name": "Python 3"
    },
    "language_info": {
      "name": "python"
    }
  },
  "cells": [
    {
      "cell_type": "markdown",
      "source": [
        "####Submitted by Mahfooj Ali"
      ],
      "metadata": {
        "id": "puMx7U6yWdBx"
      }
    },
    {
      "cell_type": "markdown",
      "source": [
        "##Q1   Neural Network Basics:\n",
        "Explain the following terms in the context of neural networks:\n",
        "\n",
        "### Answer:\n",
        "\n",
        "1. **Neuron**:  \n",
        "   Think of a neuron as a tiny calculator inside a neural network. It takes some input, does a little math with it (using weights and bias), and gives an output. It's like a decision-maker in the network.\n",
        "\n",
        "2. **Activation Function**:  \n",
        "   This is what helps the network understand complex stuff. It adds a twist (non-linearity) to the neuron's output so the network can learn things like shapes, patterns, or even human emotions.\n",
        "\n",
        "3. **Weights and Biases**:  \n",
        "   These are like the knobs and dials of a neural network.  \n",
        "   - **Weights** decide how important each input is.  \n",
        "   - **Bias** adds a little extra push to help the neuron make better decisions.\n",
        "\n",
        "4. **Feedforward Process**:  \n",
        "   This is the part where we give the input to the network, and it moves forward through all the layers to make a prediction. It's like asking a question and waiting for the answer.\n",
        "\n",
        "5. **Backpropagation**:  \n",
        "   After the network gives an answer, we check if it was right or wrong. If it was wrong, backpropagation helps the network figure out what to fix. It goes backward and adjusts the weights and biases to do better next time.\n"
      ],
      "metadata": {
        "id": "eCU_tDNIR4DR"
      }
    },
    {
      "cell_type": "markdown",
      "source": [
        "###Q2. Visualizing Neural Networks:\n",
        "\n",
        "\n",
        "### Answer:\n",
        "\n",
        "Visualizing neural networks as \"function layers\" is helpful because it shows how data is transformed step by step. Each layer does a specific job, like cleaning, shaping, or combining the data before making a final decision.\n",
        "\n",
        "For example, imagine a neural network that recognizes handwritten digits (0–9):\n",
        "\n",
        "- **Input Layer**: Takes in the raw image pixels (like a 28x28 grayscale image).\n",
        "- **Hidden Layer 1**: Detects edges and lines in the image.\n",
        "- **Hidden Layer 2**: Understands shapes like loops or corners.\n",
        "- **Output Layer**: Gives the final prediction — like \"this is a 3\".\n",
        "\n",
        "Each layer acts like a function that transforms the data, making it easier for the next layer to understand. This step-by-step view helps us understand how the network learns from data.\n"
      ],
      "metadata": {
        "id": "0qmPnM0ZTOkn"
      }
    },
    {
      "cell_type": "markdown",
      "source": [
        "### Coding Questions\n",
        "#####Q1. Implementing a Single Neuron:\n",
        " Write a Python function that simulates a single neuron. The function should take a list of inputs, weights, and a bias, and return the output using a sigmoid activation function.\n",
        "\n"
      ],
      "metadata": {
        "id": "0tBNhgIOTj_U"
      }
    },
    {
      "cell_type": "code",
      "execution_count": 1,
      "metadata": {
        "colab": {
          "base_uri": "https://localhost:8080/"
        },
        "id": "qmvAgqN9RqFw",
        "outputId": "9648152a-4029-48ac-96a9-906cd2db7920"
      },
      "outputs": [
        {
          "output_type": "stream",
          "name": "stdout",
          "text": [
            "Output: 0.5890404340586651\n"
          ]
        }
      ],
      "source": [
        "import numpy as np\n",
        "\n",
        "def sigmoid(x):\n",
        "    '''Sigmoid activation function'''\n",
        "    return 1 / (1 + np.exp(-x))\n",
        "\n",
        "def single_neuron(inputs, weights, bias):\n",
        "    '''A single neuron'''\n",
        "    total = np.dot(inputs, weights) + bias\n",
        "    return sigmoid(total)\n",
        "\n",
        "# Example usage\n",
        "inputs = [0.5, 0.6, 0.1]\n",
        "weights = [0.4, 0.3, 0.8]\n",
        "bias = -0.1\n",
        "output = single_neuron(inputs, weights, bias)\n",
        "print('Output:', output)\n"
      ]
    },
    {
      "cell_type": "markdown",
      "source": [
        "###Q2. Building a Simple Neural Network:\n",
        "Using a deep learning library (PyTorch), build a simple neural network with one hidden layer. Use this network to perform binary classification on a small dataset (the XOR dataset). Remember the activation function you are supposed to use is the Sigmoid function, use the one given by pytorch itself, no need to refer to Q1\n"
      ],
      "metadata": {
        "id": "HKEFYN11VHkH"
      }
    },
    {
      "cell_type": "code",
      "source": [
        "import torch\n",
        "import torch.nn as nn\n",
        "import torch.optim as optim\n",
        "import numpy as np\n",
        "\n",
        "# XOR dataset\n",
        "X = torch.tensor([[0, 0], [0, 1], [1, 0], [1, 1]], dtype=torch.float32)\n",
        "y = torch.tensor([[0], [1], [1], [0]], dtype=torch.float32)\n",
        "\n",
        "# Define the model\n",
        "class SimpleNN(nn.Module):\n",
        "    def __init__(self):\n",
        "        super(SimpleNN, self).__init__()\n",
        "        self.hidden = nn.Linear(2, 2)       # 2 inputs → 2 hidden neurons\n",
        "        self.output = nn.Linear(2, 1)       # 2 hidden → 1 output\n",
        "        self.sigmoid = nn.Sigmoid()\n",
        "\n",
        "    def forward(self, x):\n",
        "        x = self.sigmoid(self.hidden(x))    # Hidden layer with sigmoid\n",
        "        x = self.sigmoid(self.output(x))    # Output layer with sigmoid\n",
        "        return x\n",
        "\n",
        "model = SimpleNN()\n",
        "\n",
        "# Loss and optimizer\n",
        "criterion = nn.BCELoss()                      # Binary Cross Entropy Loss\n",
        "optimizer = optim.SGD(model.parameters(), lr=0.1)\n",
        "\n",
        "# Train the model\n",
        "for epoch in range(5000):\n",
        "    # Forward pass\n",
        "    outputs = model(X)\n",
        "    loss = criterion(outputs, y)\n",
        "\n",
        "    # Backward and optimize\n",
        "    optimizer.zero_grad()\n",
        "    loss.backward()\n",
        "    optimizer.step()\n",
        "\n",
        "# Evaluate the model\n",
        "with torch.no_grad():\n",
        "    predictions = model(X)\n",
        "    predictions = predictions.round()\n",
        "    accuracy = (predictions == y).float().mean()\n",
        "    print(f'Model Accuracy: {accuracy.item() * 100:.2f}%')\n"
      ],
      "metadata": {
        "colab": {
          "base_uri": "https://localhost:8080/"
        },
        "id": "KdUevkwjUjTx",
        "outputId": "c56cc9af-0f58-4c35-f8f4-44e0becda73d"
      },
      "execution_count": 2,
      "outputs": [
        {
          "output_type": "stream",
          "name": "stdout",
          "text": [
            "Model Accuracy: 50.00%\n"
          ]
        }
      ]
    },
    {
      "cell_type": "markdown",
      "source": [
        "###Q3. Visualizing the Learning Process:\n",
        "Modify the neural network code from Question 2 to record the loss at each epoch. Plot the loss over epochs using Matplotlib to visualize how the network learns over time.\n"
      ],
      "metadata": {
        "id": "If_AEsBCVpLA"
      }
    },
    {
      "cell_type": "code",
      "source": [
        "import matplotlib.pyplot as plt\n",
        "# Record losses\n",
        "losses = []\n",
        "\n",
        "# Train the model and record the loss\n",
        "for epoch in range(5000):\n",
        "    outputs = model(X)\n",
        "    loss = criterion(outputs, y)\n",
        "    losses.append(loss.item())\n",
        "\n",
        "    optimizer.zero_grad()\n",
        "    loss.backward()\n",
        "    optimizer.step()\n",
        "\n",
        "# Plot the loss over epochs\n",
        "plt.plot(losses)\n",
        "plt.title(\"Training Loss over Epochs\")\n",
        "plt.xlabel(\"Epoch\")\n",
        "plt.ylabel(\"Loss\")\n",
        "plt.grid(True)\n",
        "plt.show()"
      ],
      "metadata": {
        "colab": {
          "base_uri": "https://localhost:8080/",
          "height": 472
        },
        "id": "2NmLwxS6VliG",
        "outputId": "5678427a-95a8-41d8-8fa3-9fad04867dc8"
      },
      "execution_count": 4,
      "outputs": [
        {
          "output_type": "display_data",
          "data": {
            "text/plain": [
              "<Figure size 640x480 with 1 Axes>"
            ],
            "image/png": "[encoded data removed]"
          },
          "metadata": {}
        }
      ]
    },
    {
      "cell_type": "code",
      "source": [],
      "metadata": {
        "id": "CXUIpYwXWOdB"
      },
      "execution_count": null,
      "outputs": []
    }
  ]
}